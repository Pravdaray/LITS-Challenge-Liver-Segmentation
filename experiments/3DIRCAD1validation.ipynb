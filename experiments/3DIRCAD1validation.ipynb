{
 "cells": [
  {
   "cell_type": "markdown",
   "metadata": {},
   "source": [
    "# Automatice Liver & Lesion Segmentation on 3DIRCAD1 Dataset\n"
   ]
  },
  {
   "cell_type": "markdown",
   "metadata": {},
   "source": [
    "### Loading Caffe Prototxt and Model for Step 1 and Step 2"
   ]
  },
  {
   "cell_type": "code",
   "execution_count": 1,
   "metadata": {
    "collapsed": true
   },
   "outputs": [],
   "source": [
    "STEP1_DEPLOY_PROTOTXT = \"/Cascaded-FCN/models/cascadedfcn/step1/step1_deploy.prototxt\"\n",
    "STEP1_MODEL_WEIGHTS   = \"/data/step1_weights.caffemodel\"\n",
    "STEP2_DEPLOY_PROTOTXT = \"/Cascaded-FCN/models/cascadedfcn/step2/step2_deploy.prototxt\"\n",
    "STEP2_MODEL_WEIGHTS   = \"/data/step2_weights.caffemodel\""
   ]
  },
  {
   "cell_type": "code",
   "execution_count": 12,
   "metadata": {
    "collapsed": false
   },
   "outputs": [],
   "source": [
    "import caffe\n",
    "caffe.set_mode_gpu()\n",
    "import scipy as sp\n",
    "import scipy.misc, scipy.ndimage.interpolation\n",
    "from denseinference import CRFProcessor\n",
    "from medpy import metric\n",
    "import numpy as np"
   ]
  },
  {
   "cell_type": "markdown",
   "metadata": {},
   "source": [
    "#### Method for scaling and normalizing slice of Volume"
   ]
  },
  {
   "cell_type": "code",
   "execution_count": 13,
   "metadata": {
    "collapsed": true
   },
   "outputs": [],
   "source": [
    "def to_scale(img, shape=None):\n",
    "    if shape is None:\n",
    "        shape = config.slice_shape\n",
    "\n",
    "    height, width = shape\n",
    "    if img.dtype == SEG_DTYPE:\n",
    "        return scipy.misc.imresize(img,(height,width),interp=\"nearest\").astype(SEG_DTYPE)\n",
    "    elif img.dtype == IMG_DTYPE:\n",
    "        max_ = np.max(img)\n",
    "        factor = 256.0/max_ if max_ != 0 else 1\n",
    "        return (scipy.misc.imresize(img,(height,width),interp=\"nearest\")/factor).astype(IMG_DTYPE)\n",
    "    else:\n",
    "        raise TypeError('Error. To scale the image array, its type must be np.uint8 or np.float64. (' + str(img.dtype) + ')')\n",
    "\n",
    "def normalize_image(img):\n",
    "    \"\"\" Normalize image values to [0,1] \"\"\"\n",
    "    min_, max_ = float(np.min(img)), float(np.max(img))\n",
    "    return (img - min_) / (max_ - min_)"
   ]
  },
  {
   "cell_type": "markdown",
   "metadata": {},
   "source": [
    "#### Method for Histogram Equalisation"
   ]
  },
  {
   "cell_type": "code",
   "execution_count": 14,
   "metadata": {
    "collapsed": true
   },
   "outputs": [],
   "source": [
    "def histeq_processor(img):\n",
    "    \"\"\"Histogram equalization\"\"\"\n",
    "    nbr_bins=256\n",
    "    #get image histogram\n",
    "    imhist,bins = np.histogram(img.flatten(),nbr_bins,normed=True)\n",
    "    cdf = imhist.cumsum() #cumulative distribution function\n",
    "    cdf = 255 * cdf / cdf[-1] #normalize\n",
    "    #use linear interpolation of cdf to find new pixel values\n",
    "    original_shape = img.shape\n",
    "    img = np.interp(img.flatten(),bins[:-1],cdf)\n",
    "    img=img/255.0\n",
    "    return img.reshape(original_shape)"
   ]
  },
  {
   "cell_type": "markdown",
   "metadata": {},
   "source": [
    "#### Method to plot multiple slice using matplot"
   ]
  },
  {
   "cell_type": "code",
   "execution_count": 20,
   "metadata": {
    "collapsed": true
   },
   "outputs": [],
   "source": [
    "from matplotlib import pyplot as plt\n",
    "from IPython import display\n",
    "plt.set_cmap('gray')\n",
    "%matplotlib inline\n",
    "def imshow(*args,**kwargs):\n",
    "    \"\"\" Handy function to show multiple plots in on row, possibly with different cmaps and titles\n",
    "    Usage: \n",
    "    imshow(img1, title=\"myPlot\")\n",
    "    imshow(img1,img2, title=['title1','title2'])\n",
    "    imshow(img1,img2, cmap='hot')\n",
    "    imshow(img1,img2,cmap=['gray','Blues']) \"\"\"\n",
    "    cmap = kwargs.get('cmap', 'gray')\n",
    "    title= kwargs.get('title','')\n",
    "    if len(args)==0:\n",
    "        raise ValueError(\"No images given to imshow\")\n",
    "    elif len(args)==1:\n",
    "        plt.title(title)\n",
    "        plt.imshow(args[0], interpolation='none')\n",
    "    else:\n",
    "        n=len(args)\n",
    "        if type(cmap)==str:\n",
    "            cmap = [cmap]*n\n",
    "        if type(title)==str:\n",
    "            title= [title]*n\n",
    "        plt.figure(figsize=(n*5,10))\n",
    "        for i in range(n):\n",
    "            plt.subplot(1,n,i+1)\n",
    "            plt.title(title[i])\n",
    "            plt.imshow(args[i], cmap[i])\n",
    "    plt.show()\n"
   ]
  },
  {
   "cell_type": "code",
   "execution_count": 49,
   "metadata": {
    "collapsed": true
   },
   "outputs": [],
   "source": [
    "def print_minmax(img, message):\n",
    "    pass"
   ]
  },
  {
   "cell_type": "code",
   "execution_count": 54,
   "metadata": {
    "collapsed": false
   },
   "outputs": [],
   "source": [
    "from saratan_utils import norm_hounsfield_stat,norm_hounsfield_dyn\n",
    "ct_window_type=''\n",
    "ct_window_type_min=-100\n",
    "ct_window_type_max=200\n",
    "IMG_DTYPE = np.float\n",
    "SEG_DTYPE = np.uint8\n",
    "slice_shape = (388,388)\n",
    "apply_histeq = False\n",
    "def downscale_img_label(imgvol,label_vol):\n",
    "    \"\"\"\n",
    "    Downscales an image volume and an label volume. Normalizes the hounsfield units of the image volume\n",
    "    :param imgvol:\n",
    "    :param label_vol:\n",
    "    :return:\n",
    "    \"\"\"\n",
    "    imgvol = imgvol.astype(IMG_DTYPE)\n",
    "    label_vol = label_vol.astype(SEG_DTYPE)\n",
    "\n",
    "    imgvol_downscaled = np.zeros((slice_shape[0],slice_shape[1],imgvol.shape[2]))\n",
    "    label_vol_downscaled = np.zeros((slice_shape[0],slice_shape[1],imgvol.shape[2]))\n",
    "\n",
    "    # Copy image volume\n",
    "    #copy_imgvol = np.copy(imgvol)\n",
    "    #Truncate metal and high absorbative objects\n",
    "    imgvol[imgvol>1200] = 0\n",
    "\n",
    "    for i in range(imgvol.shape[2]):\n",
    "        #Get the current slc, normalize and downscale\n",
    "        slc = imgvol[:,:,i]\n",
    "\n",
    "        print_minmax(slc, \"stage1\")\n",
    "\n",
    "        slc = np.clip(slc, -100, 400)\n",
    "        print_minmax(slc, \"stage1.5 - after clip\")\n",
    "        slc = normalize_image(slc)\n",
    "        print_minmax(slc, \"stage2 - after norm\")\n",
    "        #slc = norm_hounsfield_dyn(slc)\n",
    "\n",
    "        slc = to_scale(slc, slice_shape)\n",
    "\n",
    "        if apply_histeq:\n",
    "            slc = histeq_processor(slc)\n",
    "\n",
    "\n",
    "        print_minmax(slc, \"stage3 - after to_scale-histeq\")\n",
    "        imgvol_downscaled[:,:,i] = slc\n",
    "\n",
    "        #downscale the label slc for the crf\n",
    "        label_vol_downscaled[:,:,i] = to_scale(label_vol[:,:,i] ,slice_shape)\n",
    "\n",
    "    return [imgvol_downscaled,label_vol_downscaled]"
   ]
  },
  {
   "cell_type": "code",
   "execution_count": 55,
   "metadata": {
    "collapsed": true
   },
   "outputs": [],
   "source": [
    "import dicom\n",
    "import natsort\n",
    "import glob, os\n",
    "import re\n",
    "def read_dicom_series(directory, filepattern = \"image_*\"):\n",
    "    \"\"\" Reads a DICOM Series files in the given directory. \n",
    "    Only filesnames matching filepattern will be considered\"\"\"\n",
    "    \n",
    "    if not os.path.exists(directory) or not os.path.isdir(directory):\n",
    "        raise ValueError(\"Given directory does not exist or is a file : \"+str(directory))\n",
    "    print '\\tRead Dicom',directory\n",
    "    lstFilesDCM = natsort.natsorted(glob.glob(os.path.join(directory, filepattern)))\n",
    "    print '\\tLength dicom series',len(lstFilesDCM)\n",
    "    # Get ref file\n",
    "    RefDs = dicom.read_file(lstFilesDCM[0])\n",
    "    # Load dimensions based on the number of rows, columns, and slices (along the Z axis)\n",
    "    ConstPixelDims = (int(RefDs.Rows), int(RefDs.Columns), len(lstFilesDCM))\n",
    "    # The array is sized based on 'ConstPixelDims'\n",
    "    ArrayDicom = np.zeros(ConstPixelDims, dtype=RefDs.pixel_array.dtype)\n",
    "\n",
    "    # loop through all the DICOM files\n",
    "    for filenameDCM in lstFilesDCM:\n",
    "        # read the file\n",
    "        ds = dicom.read_file(filenameDCM)\n",
    "        # store the raw image data\n",
    "        ArrayDicom[:, :, lstFilesDCM.index(filenameDCM)] = ds.pixel_array\n",
    "\n",
    "    return ArrayDicom\n",
    "\n",
    "def read_liver_lesion_masks(masks_dirname):\n",
    "    \"\"\"Since 3DIRCAD provides an individual mask for each tissue type (in DICOM series format),\n",
    "    we merge multiple tissue types into one Tumor mask, and merge this mask with the liver mask\n",
    "    \n",
    "    Args:\n",
    "        masks_dirname : MASKS_DICOM directory containing multiple DICOM series directories, \n",
    "                        one for each labelled mask\n",
    "    Returns:\n",
    "        numpy array with 0's for background pixels, 1's for liver pixels and 2's for tumor pixels\n",
    "    \"\"\"\n",
    "    tumor_volume = None\n",
    "    liver_volume = None\n",
    "    \n",
    "    # For each relevant organ in the current volume\n",
    "    for organ in os.listdir(masks_dirname):\n",
    "        organ_path = os.path.join(masks_dirname,organ)\n",
    "        if not os.path.isdir(organ_path):\n",
    "            continue\n",
    "        \n",
    "        organ = organ.lower()\n",
    "        \n",
    "        if organ.startswith(\"livertumor\") or re.match(\"liver.yst.*\", organ) or organ.startswith(\"stone\") or organ.startswith(\"metastasecto\") :\n",
    "            print 'Organ',masks_dirname,organ\n",
    "            current_tumor = read_dicom_series(organ_path)\n",
    "            current_tumor = np.clip(current_tumor,0,1)\n",
    "            # Merge different tumor masks into a single mask volume\n",
    "            tumor_volume = current_tumor if tumor_volume is None else np.logical_or(tumor_volume,current_tumor)\n",
    "        elif organ == 'liver':\n",
    "            print 'Organ',masks_dirname,organ\n",
    "            liver_volume = read_dicom_series(organ_path)\n",
    "            liver_volume = np.clip(liver_volume, 0, 1)\n",
    "    \n",
    "    # Merge liver and tumor into 1 volume with background=0, liver=1, tumor=2\n",
    "    label_volume = np.zeros(liver_volume.shape)\n",
    "    label_volume[liver_volume==1]=1\n",
    "    label_volume[tumor_volume==1]=2\n",
    "    return label_volume    "
   ]
  },
  {
   "cell_type": "code",
   "execution_count": 91,
   "metadata": {
    "collapsed": true
   },
   "outputs": [],
   "source": [
    "def zoomliver_UNET_processor(img, seg):\n",
    "    \"\"\" Custom preprocessing of img,seg for UNET architecture:\n",
    "    Crops the background and upsamples the found patch.\"\"\"\n",
    "\n",
    "    # Remove background !\n",
    "    img = np.multiply(img,np.clip(seg,0,1))\n",
    "    # get patch size\n",
    "    col_maxes = np.max(seg, axis=0) # a row\n",
    "    row_maxes = np.max(seg, axis=1)# a column\n",
    "\n",
    "    nonzero_colmaxes = np.nonzero(col_maxes)[0]\n",
    "    nonzero_rowmaxes = np.nonzero(row_maxes)[0]\n",
    "\n",
    "    x1, x2 = nonzero_colmaxes[0], nonzero_colmaxes[-1]\n",
    "    y1, y2 = nonzero_rowmaxes[0], nonzero_rowmaxes[-1]\n",
    "    width = x2-x1\n",
    "    height= y2-y1\n",
    "    MIN_WIDTH = 60\n",
    "    MIN_HEIGHT= 60\n",
    "    x_pad = (MIN_WIDTH - width) / 2 if width < MIN_WIDTH else 0\n",
    "    y_pad = (MIN_HEIGHT - height)/2 if height < MIN_HEIGHT else 0\n",
    "\n",
    "    x1 = max(0, x1-x_pad)\n",
    "    x2 = min(img.shape[1], x2+x_pad)\n",
    "    y1 = max(0, y1-y_pad)\n",
    "    y2 = min(img.shape[0], y2+y_pad)\n",
    "\n",
    "    img = img[y1:y2+1, x1:x2+1]\n",
    "    seg = seg[y1:y2+1, x1:x2+1]\n",
    "\n",
    "    img = to_scale(img, (388,388))\n",
    "    seg = to_scale(seg, (388,388))\n",
    "    # All non-lesion is background\n",
    "    seg[seg==1]=0\n",
    "    #Lesion label becomes 1\n",
    "    seg[seg==2]=1\n",
    "\n",
    "    # Now do padding for UNET, which takes 572x572\n",
    "    #seg=np.pad(seg,((92,92),(92,92)),mode='reflect')\n",
    "    img=np.pad(img,92,mode='reflect')\n",
    "    return img, (x1,x2,y1,y2)\n"
   ]
  },
  {
   "cell_type": "code",
   "execution_count": 92,
   "metadata": {
    "collapsed": true
   },
   "outputs": [],
   "source": [
    "from surface import Surface\n",
    "\n",
    "\n",
    "def get_scores(pred,label,vxlspacing):\n",
    "    volscores = {}\n",
    "\n",
    "    volscores['dice'] = metric.dc(pred,label)\n",
    "    volscores['jaccard'] = metric.binary.jc(pred,label)\n",
    "    volscores['voe'] = 1. - volscores['jaccard']\n",
    "    volscores['rvd'] = metric.ravd(label,pred)\n",
    "\n",
    "    if np.count_nonzero(pred) ==0 or np.count_nonzero(label)==0:\n",
    "        volscores['assd'] = 0\n",
    "        volscores['msd'] = 0\n",
    "    else:\n",
    "        evalsurf = Surface(pred,label,physical_voxel_spacing = vxlspacing,mask_offset = [0.,0.,0.], reference_offset = [0.,0.,0.])\n",
    "        volscores['assd'] = evalsurf.get_average_symmetric_surface_distance()\n",
    "\n",
    "        volscores['msd'] = metric.hd(label,pred,voxelspacing=vxlspacing)\n",
    "\n",
    "    return volscores\n"
   ]
  },
  {
   "cell_type": "markdown",
   "metadata": {},
   "source": [
    "### Main method for evaluating 3DIRCAD1 with 3-fold validation"
   ]
  },
  {
   "cell_type": "code",
   "execution_count": 127,
   "metadata": {
    "collapsed": false
   },
   "outputs": [],
   "source": [
    "net1_n_classes = 2\n",
    "apply_liver_crf=True\n",
    "def validation(volid,patient_dir,voxelspacing):\n",
    "    image_folder=patient_dir+\"/PATIENT_DICOM\"\n",
    "    seg_folder=patient_dir+\"/MASKS_DICOM\"\n",
    "    imgvol=read_dicom_series(image_folder)\n",
    "    labelvol=read_liver_lesion_masks(seg_folder)\n",
    "    img_vol_downscaled,lbl_vol_downscaled=downscale_img_label(imgvol,labelvol)\n",
    "    print img_vol_downscaled.shape,lbl_vol_downscaled.shape\n",
    "   \n",
    "    print \"prepro \", np.max(img_vol_downscaled)\n",
    "    probvol = np.zeros((slice_shape[0],slice_shape[1],\n",
    "                    img_vol_downscaled.shape[2],net1_n_classes))\n",
    "    pred_step_two = np.zeros((slice_shape[0],slice_shape[1],img_vol_downscaled.shape[2]))\n",
    "    probvol_step_two = np.zeros((slice_shape[0],slice_shape[1],img_vol_downscaled.shape[2],2))\n",
    "    print \"Running Step 1\"\n",
    "    #np.save(os.path.join(outdir,\"input_\"+str(volid)), imgvol_downscaled)\n",
    "    net1=caffe.Net(STEP1_DEPLOY_PROTOTXT,STEP1_MODEL_WEIGHTS,caffe.TEST)\n",
    "    for i in range(img_vol_downscaled.shape[2]):\n",
    "        slc = img_vol_downscaled[:,:,i]\n",
    "        #create mirrored slc for unet\n",
    "        slc = np.pad(slc,((92,92),(92,92)),mode='reflect')\n",
    "\n",
    "        #load slc into network and do forward pass\n",
    "        net1.blobs['data'].data[...] = slc\n",
    "        net1.forward()\n",
    "        #now save raw probabilities\n",
    "        # Net output: Slc x C x W x H\n",
    "        netprob = net1.blobs['prob'].data\n",
    "        probvol[:,:,i,:]  = netprob.transpose((0,2,3,1))[0]\n",
    "    if apply_liver_crf:\n",
    "        print \"Running CRF\"\n",
    "        crfparams = {'max_iterations': 10 ,\n",
    "                    'dynamic_z': True ,\n",
    "                    'ignore_memory': True ,\n",
    "                    'bilateral_x_std': 9.0,'bilateral_y_std': 9.0,'bilateral_z_std': 9.0,\n",
    "                    'pos_x_std': 1.5 ,'pos_y_std': 1.5,'pos_z_std': 1.5,\n",
    "                    'bilateral_intensity_std': 20.0,'bilateral_w': 10.0,\n",
    "                    'pos_w': 3.0 }\n",
    "        pro = CRFProcessor.CRF3DProcessor(**crfparams)\n",
    "        print np.max(img_vol_downscaled), np.min(img_vol_downscaled)\n",
    "        liver_pred = pro.set_data_and_run(img_vol_downscaled, probvol)\n",
    "        #np.save(\"liver_crf_\"+str(volid), liver_pred)\n",
    "    else:\n",
    "        print probvol.shape\n",
    "        liver_pred = np.argmax(probvol,axis=3).astype(SEG_DTYPE)\n",
    "        print liver_pred.shape\n",
    "\n",
    "    \n",
    "    del net1\n",
    "    print \"Running Step 2\"\n",
    "    net2=caffe.Net(STEP2_DEPLOY_PROTOTXT,STEP2_MODEL_WEIGHTS,caffe.TEST)\n",
    "    for i in range(img_vol_downscaled.shape[2]):\n",
    "        slc = img_vol_downscaled[:,:,i]\n",
    "\n",
    "        #now we crop and upscale the liver\n",
    "        slc_pred_liver = liver_pred[:, :, i].astype(SEG_DTYPE)\n",
    "\n",
    "        if np.count_nonzero(slc_pred_liver) == 0:\n",
    "            probvol_step_two[:,:,i,:] = 0\n",
    "        else:\n",
    "            slc, bbox = zoomliver_UNET_processor(slc, slc_pred_liver)\n",
    "            #load slc into network and do forward pass\n",
    "            net2.blobs['data'].data[...] = slc\n",
    "            net2.forward()\n",
    "\n",
    "            #scale output back down and insert into the probability volume\n",
    "\n",
    "            x1,x2,y1,y2 = bbox\n",
    "            leftpad, rightpad = x1, 388-x2\n",
    "            toppad, bottompad = y1, 388-y2\n",
    "            width, height = int(x2-x1), int(y2-y1)\n",
    "            #now save probabilities\n",
    "            prob = net2.blobs['prob'].data.transpose((0,2,3,1))[0]\n",
    "            slc_pred_step_two = np.argmax(prob,axis=2).astype(SEG_DTYPE)\n",
    "\n",
    "            slc_pred_step_two = to_scale(slc_pred_step_two, (height,width))\n",
    "            slc_pred_step_two = np.pad(slc_pred_step_two, ((toppad,bottompad),(leftpad,rightpad)), mode='constant')\n",
    "            pred_step_two[:,:,i] = slc_pred_step_two\n",
    "    liver_pred[pred_step_two==1] = 2\n",
    "\n",
    "    pred = liver_pred.astype(int)\n",
    "    label = lbl_vol_downscaled.astype(int)\n",
    "\n",
    "    liver_scores = get_scores(pred>=1,label>=1,voxelspacing)\n",
    "    lesion_scores= get_scores(pred==2,label==2,voxelspacing)\n",
    "    print \"Liver dice for volid:\",volid,liver_scores['dice'], \"Lesion dice for volid\",volid, lesion_scores['dice']\n",
    "    return [volid,liver_scores,lesion_scores]\n",
    "\n",
    "    "
   ]
  },
  {
   "cell_type": "code",
   "execution_count": 115,
   "metadata": {
    "collapsed": false
   },
   "outputs": [
    {
     "name": "stdout",
     "output_type": "stream",
     "text": [
      "\tRead Dicom /data/3Dircadb1/3Dircadb1.1/PATIENT_DICOM\n",
      "\tLength dicom series 129\n",
      "Organ /data/3Dircadb1/3Dircadb1.1/MASKS_DICOM liverkyst\n",
      "\tRead Dicom /data/3Dircadb1/3Dircadb1.1/MASKS_DICOM/liverkyst\n",
      "\tLength dicom series 129\n",
      "Organ /data/3Dircadb1/3Dircadb1.1/MASKS_DICOM livertumor01\n",
      "\tRead Dicom /data/3Dircadb1/3Dircadb1.1/MASKS_DICOM/livertumor01\n",
      "\tLength dicom series 129\n",
      "Organ /data/3Dircadb1/3Dircadb1.1/MASKS_DICOM livertumor04\n",
      "\tRead Dicom /data/3Dircadb1/3Dircadb1.1/MASKS_DICOM/livertumor04\n",
      "\tLength dicom series 129\n",
      "Organ /data/3Dircadb1/3Dircadb1.1/MASKS_DICOM livertumor06\n",
      "\tRead Dicom /data/3Dircadb1/3Dircadb1.1/MASKS_DICOM/livertumor06\n",
      "\tLength dicom series 129\n",
      "Organ /data/3Dircadb1/3Dircadb1.1/MASKS_DICOM livertumor02\n",
      "\tRead Dicom /data/3Dircadb1/3Dircadb1.1/MASKS_DICOM/livertumor02\n",
      "\tLength dicom series 129\n",
      "Organ /data/3Dircadb1/3Dircadb1.1/MASKS_DICOM livertumor03\n",
      "\tRead Dicom /data/3Dircadb1/3Dircadb1.1/MASKS_DICOM/livertumor03\n",
      "\tLength dicom series 129\n",
      "Organ /data/3Dircadb1/3Dircadb1.1/MASKS_DICOM livertumor05\n",
      "\tRead Dicom /data/3Dircadb1/3Dircadb1.1/MASKS_DICOM/livertumor05\n",
      "\tLength dicom series 129\n",
      "Organ /data/3Dircadb1/3Dircadb1.1/MASKS_DICOM livertumor07\n",
      "\tRead Dicom /data/3Dircadb1/3Dircadb1.1/MASKS_DICOM/livertumor07\n",
      "\tLength dicom series 129\n",
      "Organ /data/3Dircadb1/3Dircadb1.1/MASKS_DICOM liver\n",
      "\tRead Dicom /data/3Dircadb1/3Dircadb1.1/MASKS_DICOM/liver\n",
      "\tLength dicom series 129\n",
      "(388, 388, 129) (388, 388, 129)\n",
      "prepro  0.99609375\n",
      "Running Step 1\n",
      "Running CRF\n",
      "0.99609375 0.0\n",
      "Running Step 2\n"
     ]
    },
    {
     "data": {
      "image/png": "[encoded data removed]",
      "text/plain": [
       "<matplotlib.figure.Figure at 0x7f5e2dd0e150>"
      ]
     },
     "metadata": {},
     "output_type": "display_data"
    },
    {
     "data": {
      "image/png": "[encoded data removed]",
      "text/plain": [
       "<matplotlib.figure.Figure at 0x7f5e40198f90>"
      ]
     },
     "metadata": {},
     "output_type": "display_data"
    },
    {
     "data": {
      "image/png": "[encoded data removed]",
      "text/plain": [
       "<matplotlib.figure.Figure at 0x7f5e06177b50>"
      ]
     },
     "metadata": {},
     "output_type": "display_data"
    },
    {
     "data": {
      "image/png": "[encoded data removed]",
      "text/plain": [
       "<matplotlib.figure.Figure at 0x7f5e400824d0>"
      ]
     },
     "metadata": {},
     "output_type": "display_data"
    },
    {
     "data": {
      "image/png": "[encoded data removed]",
      "text/plain": [
       "<matplotlib.figure.Figure at 0x7f5e40182ed0>"
      ]
     },
     "metadata": {},
     "output_type": "display_data"
    },
    {
     "name": "stdout",
     "output_type": "stream",
     "text": [
      "Liver dice 0.940870833442 Lesion dice 0.673483498032\n",
      "[{'voe': 0.11165619534500604, 'dice': 0.9408708334415798, 'rvd': 0.011667668344096554, 'assd': 1.7381469482359235, 'jaccard': 0.888343804654994, 'msd': 27.086860283170509}, {'voe': 0.4922916548476769, 'dice': 0.6734834980316164, 'rvd': -0.2727051158105111, 'assd': 7.2081406585250578, 'jaccard': 0.5077083451523231, 'msd': 53.093940332207403}]\n"
     ]
    }
   ],
   "source": [
    "voxel_spacing= [([0.57,0.57,1.6]),([0.78,0.78,1.6]),([0.62,0.62,1.25]),([0.74,0.74,2.]),\n",
    "([0.78,0.78,1.6]),([0.78,0.78,1.6]),([0.78,0.78,1.6]),\n",
    "([0.56,0.56,1.6]),([0.87,0.87,2.]),([0.73,0.73,1.6]),([0.72,0.72,1.6]),([0.68,0.68,1.]),\n",
    "                ([0.67,0.67,1.6]),([0.72,0.72,1.6]),([0.78,0.78,1.6]),\n",
    "([0.7,0.7,1.6]),([0.74,0.74,1.6]),([0.74,0.74,2.5]),([0.7,0.7,4.]),([0.81,0.81,2.])]\n",
    "scores=validation(\"3Dircadb1.1\",voxel_spacing[0])\n",
    "print scores"
   ]
  },
  {
   "cell_type": "code",
   "execution_count": 131,
   "metadata": {
    "collapsed": true
   },
   "outputs": [],
   "source": [
    "IRCA_BASE_PATH=\"/data/3Dircadb1/\"\n",
    "irca_all= [\\\n",
    "(301,IRCA_BASE_PATH+\"3Dircadb1.1\",[0.57,0.57,1.6]),\n",
    "(302,IRCA_BASE_PATH+\"3Dircadb1.2\",[0.78,0.78,1.6]),\n",
    "(303,IRCA_BASE_PATH+\"3Dircadb1.3\",[0.62,0.62,1.25]),\n",
    "(304,IRCA_BASE_PATH+\"3Dircadb1.4\",[0.74,0.74,2.]),\n",
    "#(305,IRCA_BASE_PATH+\"3Dircadb1.5\",[0.78,0.78,1.6]),\n",
    "(306,IRCA_BASE_PATH+\"3Dircadb1.6\",[0.78,0.78,1.6]),\n",
    "#(307,IRCA_BASE_PATH+\"image07.nii\",[0.78,0.78,1.6]),\n",
    "(308,IRCA_BASE_PATH+\"3Dircadb1.8\",[0.56,0.56,1.6]),\n",
    "(309,IRCA_BASE_PATH+\"3Dircadb1.9\",[0.87,0.87,2.]),\n",
    "(310,IRCA_BASE_PATH+\"3Dircadb1.10\",[0.73,0.73,1.6]),\n",
    "#(311,IRCA_BASE_PATH+\"3Dircadb1.11\",[0.72,0.72,1.6]),\n",
    "(312,IRCA_BASE_PATH+\"3Dircadb1.12\",[0.68,0.68,1.]),\n",
    "(313,IRCA_BASE_PATH+\"3Dircadb1.13\",[0.67,0.67,1.6]),\n",
    "#(314,IRCA_BASE_PATH+\"3Dircadb1.14\",[0.72,0.72,1.6]),\n",
    "(315,IRCA_BASE_PATH+\"3Dircadb1.15\",[0.78,0.78,1.6]),\n",
    "(316,IRCA_BASE_PATH+\"3Dircadb1.16\",[0.7,0.7,1.6]),\n",
    "(317,IRCA_BASE_PATH+\"3Dircadb1.17\",[0.74,0.74,1.6]),\n",
    "(318,IRCA_BASE_PATH+\"3Dircadb1.18\",[0.74,0.74,2.5]),\n",
    "(319,IRCA_BASE_PATH+\"3Dircadb1.19\",[0.7,0.7,4.])]"
   ]
  },
  {
   "cell_type": "code",
   "execution_count": 132,
   "metadata": {
    "collapsed": false
   },
   "outputs": [],
   "source": [
    "### 3 Fold\n",
    "irca_test_fold1 = irca_all[:5]\n",
    "irca_train_fold1 = irca_all[5:]\n",
    "\n",
    "irca_test_fold2 = irca_all[5:10]\n",
    "irca_train_fold2 = irca_all[:5] + irca_all[10:]\n",
    "\n",
    "irca_test_fold3 = irca_all[10:15]\n",
    "irca_train_fold3 = irca_all[:10]\n",
    "irca_dataset = [irca_test_fold1, irca_test_fold2, irca_test_fold3]\n",
    "#print len(irca_dataset[1])"
   ]
  },
  {
   "cell_type": "markdown",
   "metadata": {},
   "source": [
    "### Method to calculate Overall score for each fold"
   ]
  },
  {
   "cell_type": "code",
   "execution_count": 133,
   "metadata": {
    "collapsed": false
   },
   "outputs": [
    {
     "name": "stdout",
     "output_type": "stream",
     "text": [
      "Starting fold 1\n",
      "\tRead Dicom /data/3Dircadb1/3Dircadb1.1/PATIENT_DICOM\n",
      "\tLength dicom series 129\n",
      "Organ /data/3Dircadb1/3Dircadb1.1/MASKS_DICOM liverkyst\n",
      "\tRead Dicom /data/3Dircadb1/3Dircadb1.1/MASKS_DICOM/liverkyst\n",
      "\tLength dicom series 129\n",
      "Organ /data/3Dircadb1/3Dircadb1.1/MASKS_DICOM livertumor01\n",
      "\tRead Dicom /data/3Dircadb1/3Dircadb1.1/MASKS_DICOM/livertumor01\n",
      "\tLength dicom series 129\n",
      "Organ /data/3Dircadb1/3Dircadb1.1/MASKS_DICOM livertumor04\n",
      "\tRead Dicom /data/3Dircadb1/3Dircadb1.1/MASKS_DICOM/livertumor04\n",
      "\tLength dicom series 129\n",
      "Organ /data/3Dircadb1/3Dircadb1.1/MASKS_DICOM livertumor06\n",
      "\tRead Dicom /data/3Dircadb1/3Dircadb1.1/MASKS_DICOM/livertumor06\n",
      "\tLength dicom series 129\n",
      "Organ /data/3Dircadb1/3Dircadb1.1/MASKS_DICOM livertumor02\n",
      "\tRead Dicom /data/3Dircadb1/3Dircadb1.1/MASKS_DICOM/livertumor02\n",
      "\tLength dicom series 129\n",
      "Organ /data/3Dircadb1/3Dircadb1.1/MASKS_DICOM livertumor03\n",
      "\tRead Dicom /data/3Dircadb1/3Dircadb1.1/MASKS_DICOM/livertumor03\n",
      "\tLength dicom series 129\n",
      "Organ /data/3Dircadb1/3Dircadb1.1/MASKS_DICOM livertumor05\n",
      "\tRead Dicom /data/3Dircadb1/3Dircadb1.1/MASKS_DICOM/livertumor05\n",
      "\tLength dicom series 129\n",
      "Organ /data/3Dircadb1/3Dircadb1.1/MASKS_DICOM livertumor07\n",
      "\tRead Dicom /data/3Dircadb1/3Dircadb1.1/MASKS_DICOM/livertumor07\n",
      "\tLength dicom series 129\n",
      "Organ /data/3Dircadb1/3Dircadb1.1/MASKS_DICOM liver\n",
      "\tRead Dicom /data/3Dircadb1/3Dircadb1.1/MASKS_DICOM/liver\n",
      "\tLength dicom series 129\n",
      "(388, 388, 129) (388, 388, 129)\n",
      "prepro  0.99609375\n",
      "Running Step 1\n",
      "Running CRF\n",
      "0.99609375 0.0\n",
      "Running Step 2\n",
      "Liver dice for volid: 301 0.940870833442 Lesion dice for volid 301 0.673483498032\n",
      "\tRead Dicom /data/3Dircadb1/3Dircadb1.2/PATIENT_DICOM\n",
      "\tLength dicom series 172\n",
      "Organ /data/3Dircadb1/3Dircadb1.2/MASKS_DICOM livertumor\n",
      "\tRead Dicom /data/3Dircadb1/3Dircadb1.2/MASKS_DICOM/livertumor\n",
      "\tLength dicom series 172\n",
      "Organ /data/3Dircadb1/3Dircadb1.2/MASKS_DICOM liver\n",
      "\tRead Dicom /data/3Dircadb1/3Dircadb1.2/MASKS_DICOM/liver\n",
      "\tLength dicom series 172\n",
      "(388, 388, 172) (388, 388, 172)\n",
      "prepro  0.99609375\n",
      "Running Step 1\n",
      "Running CRF\n",
      "0.99609375 0.0\n",
      "Running Step 2\n",
      "Liver dice for volid: 302 0.902666345313 Lesion dice for volid 302 0.0178623890945\n",
      "\tRead Dicom /data/3Dircadb1/3Dircadb1.3/PATIENT_DICOM\n",
      "\tLength dicom series 200\n",
      "Organ /data/3Dircadb1/3Dircadb1.3/MASKS_DICOM stones\n",
      "\tRead Dicom /data/3Dircadb1/3Dircadb1.3/MASKS_DICOM/Stones\n",
      "\tLength dicom series 200\n",
      "Organ /data/3Dircadb1/3Dircadb1.3/MASKS_DICOM livertumor\n",
      "\tRead Dicom /data/3Dircadb1/3Dircadb1.3/MASKS_DICOM/livertumor\n",
      "\tLength dicom series 200\n",
      "Organ /data/3Dircadb1/3Dircadb1.3/MASKS_DICOM liver\n",
      "\tRead Dicom /data/3Dircadb1/3Dircadb1.3/MASKS_DICOM/liver\n",
      "\tLength dicom series 200\n",
      "(388, 388, 200) (388, 388, 200)\n",
      "prepro  0.99609375\n",
      "Running Step 1\n",
      "Running CRF\n",
      "0.99609375 0.0\n",
      "Running Step 2\n",
      "Liver dice for volid: 303 0.93540966135 Lesion dice for volid 303 0.0111315921768\n",
      "\tRead Dicom /data/3Dircadb1/3Dircadb1.4/PATIENT_DICOM\n",
      "\tLength dicom series 91\n",
      "Organ /data/3Dircadb1/3Dircadb1.4/MASKS_DICOM livertumor\n",
      "\tRead Dicom /data/3Dircadb1/3Dircadb1.4/MASKS_DICOM/livertumor\n",
      "\tLength dicom series 91\n",
      "Organ /data/3Dircadb1/3Dircadb1.4/MASKS_DICOM liver\n",
      "\tRead Dicom /data/3Dircadb1/3Dircadb1.4/MASKS_DICOM/liver\n",
      "\tLength dicom series 91\n",
      "(388, 388, 91) (388, 388, 91)\n",
      "prepro  0.99609375\n",
      "Running Step 1\n",
      "Running CRF\n",
      "0.99609375 0.0\n",
      "Running Step 2\n",
      "Liver dice for volid: 304 0.919139653765 Lesion dice for volid 304 0.434408602151\n",
      "\tRead Dicom /data/3Dircadb1/3Dircadb1.6/PATIENT_DICOM\n",
      "\tLength dicom series 135\n",
      "Organ /data/3Dircadb1/3Dircadb1.6/MASKS_DICOM livertumor\n",
      "\tRead Dicom /data/3Dircadb1/3Dircadb1.6/MASKS_DICOM/livertumor\n",
      "\tLength dicom series 135\n",
      "Organ /data/3Dircadb1/3Dircadb1.6/MASKS_DICOM liver\n",
      "\tRead Dicom /data/3Dircadb1/3Dircadb1.6/MASKS_DICOM/liver\n",
      "\tLength dicom series 135\n",
      "(388, 388, 135) (388, 388, 135)\n",
      "prepro  0.99609375\n",
      "Running Step 1\n",
      "Running CRF\n",
      "0.99609375 0.0\n",
      "Running Step 2\n",
      "Liver dice for volid: 306 0.903282327067 Lesion dice for volid 306 0.698383165017\n",
      "Completed fold 1\n",
      "Starting fold 2\n",
      "\tRead Dicom /data/3Dircadb1/3Dircadb1.8/PATIENT_DICOM\n",
      "\tLength dicom series 124\n",
      "Organ /data/3Dircadb1/3Dircadb1.8/MASKS_DICOM livertumor01\n",
      "\tRead Dicom /data/3Dircadb1/3Dircadb1.8/MASKS_DICOM/livertumor01\n",
      "\tLength dicom series 124\n",
      "Organ /data/3Dircadb1/3Dircadb1.8/MASKS_DICOM livertumor02\n",
      "\tRead Dicom /data/3Dircadb1/3Dircadb1.8/MASKS_DICOM/livertumor02\n",
      "\tLength dicom series 124\n",
      "Organ /data/3Dircadb1/3Dircadb1.8/MASKS_DICOM livertumor03\n",
      "\tRead Dicom /data/3Dircadb1/3Dircadb1.8/MASKS_DICOM/livertumor03\n",
      "\tLength dicom series 124\n",
      "Organ /data/3Dircadb1/3Dircadb1.8/MASKS_DICOM liver\n",
      "\tRead Dicom /data/3Dircadb1/3Dircadb1.8/MASKS_DICOM/liver\n",
      "\tLength dicom series 124\n",
      "(388, 388, 124) (388, 388, 124)\n",
      "prepro  0.99609375\n",
      "Running Step 1\n",
      "Running CRF\n",
      "0.99609375 0.0\n",
      "Running Step 2\n",
      "Liver dice for volid: 308 0.885193136412 Lesion dice for volid 308 0.0279090418953\n",
      "\tRead Dicom /data/3Dircadb1/3Dircadb1.9/PATIENT_DICOM\n",
      "\tLength dicom series 111\n",
      "Organ /data/3Dircadb1/3Dircadb1.9/MASKS_DICOM liverkyste\n",
      "\tRead Dicom /data/3Dircadb1/3Dircadb1.9/MASKS_DICOM/liverkyste\n",
      "\tLength dicom series 111\n",
      "Organ /data/3Dircadb1/3Dircadb1.9/MASKS_DICOM livertumor\n",
      "\tRead Dicom /data/3Dircadb1/3Dircadb1.9/MASKS_DICOM/livertumor\n",
      "\tLength dicom series 111\n",
      "Organ /data/3Dircadb1/3Dircadb1.9/MASKS_DICOM liver\n",
      "\tRead Dicom /data/3Dircadb1/3Dircadb1.9/MASKS_DICOM/liver\n",
      "\tLength dicom series 111\n",
      "(388, 388, 111) (388, 388, 111)\n",
      "prepro  0.99609375\n",
      "Running Step 1\n",
      "Running CRF\n",
      "0.99609375 0.0\n",
      "Running Step 2\n",
      "Liver dice for volid: 309 0.897223205776 Lesion dice for volid 309 0.425631951466\n",
      "\tRead Dicom /data/3Dircadb1/3Dircadb1.10/PATIENT_DICOM\n",
      "\tLength dicom series 122\n",
      "Organ /data/3Dircadb1/3Dircadb1.10/MASKS_DICOM livertumor\n",
      "\tRead Dicom /data/3Dircadb1/3Dircadb1.10/MASKS_DICOM/livertumor\n",
      "\tLength dicom series 122\n",
      "Organ /data/3Dircadb1/3Dircadb1.10/MASKS_DICOM liver\n",
      "\tRead Dicom /data/3Dircadb1/3Dircadb1.10/MASKS_DICOM/liver\n",
      "\tLength dicom series 122\n",
      "(388, 388, 122) (388, 388, 122)\n",
      "prepro  0.99609375\n",
      "Running Step 1\n",
      "Running CRF\n",
      "0.99609375 0.0\n",
      "Running Step 2\n",
      "Liver dice for volid: 310 0.926265255403 Lesion dice for volid 310 0.565652037477\n",
      "\tRead Dicom /data/3Dircadb1/3Dircadb1.12/PATIENT_DICOM\n",
      "\tLength dicom series 260\n",
      "Organ /data/3Dircadb1/3Dircadb1.12/MASKS_DICOM livertumor\n",
      "\tRead Dicom /data/3Dircadb1/3Dircadb1.12/MASKS_DICOM/livertumor\n",
      "\tLength dicom series 260\n",
      "Organ /data/3Dircadb1/3Dircadb1.12/MASKS_DICOM liver\n",
      "\tRead Dicom /data/3Dircadb1/3Dircadb1.12/MASKS_DICOM/liver\n",
      "\tLength dicom series 260\n",
      "(388, 388, 260) (388, 388, 260)\n",
      "prepro  0.99609375\n",
      "Running Step 1\n",
      "Running CRF\n",
      "0.99609375 0.0\n",
      "Running Step 2\n",
      "Liver dice for volid: 312 0.836701808333 Lesion dice for volid 312 0.0\n",
      "\tRead Dicom /data/3Dircadb1/3Dircadb1.13/PATIENT_DICOM\n",
      "\tLength dicom series 122\n",
      "Organ /data/3Dircadb1/3Dircadb1.13/MASKS_DICOM livertumor\n",
      "\tRead Dicom /data/3Dircadb1/3Dircadb1.13/MASKS_DICOM/livertumor\n",
      "\tLength dicom series 122\n",
      "Organ /data/3Dircadb1/3Dircadb1.13/MASKS_DICOM liver\n",
      "\tRead Dicom /data/3Dircadb1/3Dircadb1.13/MASKS_DICOM/liver\n",
      "\tLength dicom series 122\n",
      "(388, 388, 122) (388, 388, 122)\n",
      "prepro  0.99609375\n",
      "Running Step 1\n",
      "Running CRF\n",
      "0.99609375 0.0\n",
      "Running Step 2\n",
      "Liver dice for volid: 313 0.914793047897 Lesion dice for volid 313 0.679486226407\n",
      "Completed fold 2\n",
      "Starting fold 3\n",
      "\tRead Dicom /data/3Dircadb1/3Dircadb1.15/PATIENT_DICOM\n",
      "\tLength dicom series 125\n",
      "Organ /data/3Dircadb1/3Dircadb1.15/MASKS_DICOM livertumor\n",
      "\tRead Dicom /data/3Dircadb1/3Dircadb1.15/MASKS_DICOM/livertumor\n",
      "\tLength dicom series 125\n",
      "Organ /data/3Dircadb1/3Dircadb1.15/MASKS_DICOM liver\n",
      "\tRead Dicom /data/3Dircadb1/3Dircadb1.15/MASKS_DICOM/liver\n",
      "\tLength dicom series 125\n",
      "(388, 388, 125) (388, 388, 125)\n",
      "prepro  0.99609375\n",
      "Running Step 1\n",
      "Running CRF\n",
      "0.99609375 0.0\n",
      "Running Step 2\n",
      "Liver dice for volid: 315 0.859662857402 Lesion dice for volid 315 0.00174096302744\n",
      "\tRead Dicom /data/3Dircadb1/3Dircadb1.16/PATIENT_DICOM\n",
      "\tLength dicom series 155\n",
      "Organ /data/3Dircadb1/3Dircadb1.16/MASKS_DICOM livertumor\n",
      "\tRead Dicom /data/3Dircadb1/3Dircadb1.16/MASKS_DICOM/livertumor\n",
      "\tLength dicom series 155\n",
      "Organ /data/3Dircadb1/3Dircadb1.16/MASKS_DICOM liver\n",
      "\tRead Dicom /data/3Dircadb1/3Dircadb1.16/MASKS_DICOM/liver\n",
      "\tLength dicom series 155\n",
      "(388, 388, 155) (388, 388, 155)\n",
      "prepro  0.99609375\n",
      "Running Step 1\n",
      "Running CRF\n",
      "0.99609375 0.0\n",
      "Running Step 2\n",
      "Liver dice for volid: 316 0.921928157971 Lesion dice for volid 316 0.0346700215581\n",
      "\tRead Dicom /data/3Dircadb1/3Dircadb1.17/PATIENT_DICOM\n",
      "\tLength dicom series 119\n",
      "Organ /data/3Dircadb1/3Dircadb1.17/MASKS_DICOM livertumor2\n",
      "\tRead Dicom /data/3Dircadb1/3Dircadb1.17/MASKS_DICOM/livertumor2\n",
      "\tLength dicom series 119\n",
      "Organ /data/3Dircadb1/3Dircadb1.17/MASKS_DICOM livertumor1\n",
      "\tRead Dicom /data/3Dircadb1/3Dircadb1.17/MASKS_DICOM/livertumor1\n",
      "\tLength dicom series 119\n",
      "Organ /data/3Dircadb1/3Dircadb1.17/MASKS_DICOM liver\n",
      "\tRead Dicom /data/3Dircadb1/3Dircadb1.17/MASKS_DICOM/liver\n",
      "\tLength dicom series 119\n",
      "(388, 388, 119) (388, 388, 119)\n",
      "prepro  0.99609375\n",
      "Running Step 1\n",
      "Running CRF\n",
      "0.99609375 0.0\n",
      "Running Step 2\n",
      "Liver dice for volid: 317 0.883248249051 Lesion dice for volid 317 0.42245963081\n",
      "\tRead Dicom /data/3Dircadb1/3Dircadb1.18/PATIENT_DICOM\n",
      "\tLength dicom series 74\n",
      "Organ /data/3Dircadb1/3Dircadb1.18/MASKS_DICOM livertumor\n",
      "\tRead Dicom /data/3Dircadb1/3Dircadb1.18/MASKS_DICOM/livertumor\n",
      "\tLength dicom series 74\n",
      "Organ /data/3Dircadb1/3Dircadb1.18/MASKS_DICOM liver\n",
      "\tRead Dicom /data/3Dircadb1/3Dircadb1.18/MASKS_DICOM/liver\n",
      "\tLength dicom series 74\n",
      "(388, 388, 74) (388, 388, 74)\n",
      "prepro  0.99609375\n",
      "Running Step 1\n",
      "Running CRF\n",
      "0.99609375 0.0\n",
      "Running Step 2\n",
      "Liver dice for volid: 318 0.883697558945 Lesion dice for volid 318 0.0127902864553\n",
      "\tRead Dicom /data/3Dircadb1/3Dircadb1.19/PATIENT_DICOM\n",
      "\tLength dicom series 124\n",
      "Organ /data/3Dircadb1/3Dircadb1.19/MASKS_DICOM livertumors\n",
      "\tRead Dicom /data/3Dircadb1/3Dircadb1.19/MASKS_DICOM/livertumors\n",
      "\tLength dicom series 124\n",
      "Organ /data/3Dircadb1/3Dircadb1.19/MASKS_DICOM livercyst\n",
      "\tRead Dicom /data/3Dircadb1/3Dircadb1.19/MASKS_DICOM/livercyst\n",
      "\tLength dicom series 124\n",
      "Organ /data/3Dircadb1/3Dircadb1.19/MASKS_DICOM liver\n",
      "\tRead Dicom /data/3Dircadb1/3Dircadb1.19/MASKS_DICOM/liver\n",
      "\tLength dicom series 124\n",
      "(388, 388, 124) (388, 388, 124)\n",
      "prepro  0.99609375\n",
      "Running Step 1\n",
      "Running CRF\n",
      "0.99609375 0.0\n",
      "Running Step 2\n",
      "Liver dice for volid: 319 0.902632103328 Lesion dice for volid 319 0.617883228236\n",
      "Completed fold 3\n"
     ]
    }
   ],
   "source": [
    "overall_score= []\n",
    "for i in range(len(irca_dataset)):\n",
    "    foldscore = []\n",
    "    print 'Starting fold',i+1\n",
    "    for j in range(len(irca_dataset[i])):\n",
    "       \n",
    "        volid_liver_lesion_score=validation(volid=irca_dataset[i][j][0],patient_dir=irca_dataset[i][j][1],\n",
    "                                           voxelspacing=irca_dataset[i][j][2])\n",
    "        foldscore.append(volid_liver_lesion_score)\n",
    "    overall_score.append(foldscore)\n",
    "    print 'Completed fold',i+1"
   ]
  },
  {
   "cell_type": "code",
   "execution_count": 134,
   "metadata": {
    "collapsed": false
   },
   "outputs": [
    {
     "name": "stdout",
     "output_type": "stream",
     "text": [
      "[[[301, {'voe': 0.11165619534500604, 'dice': 0.9408708334415798, 'rvd': 0.011667668344096554, 'assd': 1.7381469482359235, 'jaccard': 0.888343804654994, 'msd': 27.086860283170509}, {'voe': 0.4922916548476769, 'dice': 0.6734834980316164, 'rvd': -0.2727051158105111, 'assd': 7.2081406585250578, 'jaccard': 0.5077083451523231, 'msd': 53.093940332207403}], [302, {'voe': 0.17740029073399421, 'dice': 0.9026663453131809, 'rvd': -0.05725419981101643, 'assd': 2.6568669021085554, 'jaccard': 0.8225997092660058, 'msd': 33.78499667011971}, {'voe': 0.9909883203889251, 'dice': 0.017862389094541395, 'rvd': 0.11284916201117319, 'assd': 41.180841162694655, 'jaccard': 0.00901167961107488, 'msd': 131.44554157520903}], [303, {'voe': 0.12134308626601509, 'dice': 0.9354096613495885, 'rvd': -0.025635479826677323, 'assd': 1.4422044626205952, 'jaccard': 0.8786569137339849, 'msd': 15.025604813118173}, {'voe': 0.9944030524427968, 'dice': 0.011131592176764895, 'rvd': 8.136617325891773, 'assd': 34.393393395854844, 'jaccard': 0.005596947557203211, 'msd': 98.336257809619738}], [304, {'voe': 0.14962219035301172, 'dice': 0.9191396537653268, 'rvd': 0.021017600491891476, 'assd': 2.149271089569202, 'jaccard': 0.8503778096469883, 'msd': 26.902564933477997}, {'voe': 0.7225274725274725, 'dice': 0.4344086021505376, 'rvd': 0.8844662703540966, 'assd': 9.5006191577518084, 'jaccard': 0.2774725274725275, 'msd': 58.308483087797782}], [306, {'voe': 0.17637661053470488, 'dice': 0.9032823270673117, 'rvd': -0.1174917944279238, 'assd': 2.4963190031657945, 'jaccard': 0.8236233894652951, 'msd': 21.245761930323894}, {'voe': 0.46344949892599696, 'dice': 0.6983831650166659, 'rvd': -0.3905036432060213, 'assd': 3.0704239134572071, 'jaccard': 0.536550501074003, 'msd': 34.045357980200471}]], [[308, {'voe': 0.2059672708129512, 'dice': 0.8851931364115728, 'rvd': 0.07305963281134469, 'assd': 3.9080310334817261, 'jaccard': 0.7940327291870488, 'msd': 42.020414086488969}, {'voe': 0.9858479945965071, 'dice': 0.027909041895277664, 'rvd': 3.3624149659863947, 'assd': 28.367633397030314, 'jaccard': 0.014152005403492972, 'msd': 84.429454575994981}], [309, {'voe': 0.1863963673559519, 'dice': 0.8972232057761127, 'rvd': -0.033575101585322724, 'assd': 3.0768026635319261, 'jaccard': 0.8136036326440481, 'msd': 30.226918466823573}, {'voe': 0.7296490157669953, 'dice': 0.4256319514661274, 'rvd': -0.39245804380511196, 'assd': 7.5762601676273524, 'jaccard': 0.27035098423300474, 'msd': 86.057969415969836}], [310, {'voe': 0.13734256988135163, 'dice': 0.9262652554030812, 'rvd': -0.038249083703882865, 'assd': 2.057333877873595, 'jaccard': 0.8626574301186484, 'msd': 24.592881083760805}, {'voe': 0.6056382047755969, 'dice': 0.5656520374770252, 'rvd': 0.5758660508083141, 'assd': 10.238144180381527, 'jaccard': 0.39436179522440307, 'msd': 54.554986023277472}], [312, {'voe': 0.280750357623615, 'dice': 0.8367018083333403, 'rvd': -0.13139484416137254, 'assd': 8.7739186820379924, 'jaccard': 0.719249642376385, 'msd': 99.093370111223891}, {'voe': 1.0, 'dice': 0.0, 'rvd': -0.7552615185268247, 'assd': 85.194012918785077, 'jaccard': 0.0, 'msd': 166.73756625307928}], [313, {'voe': 0.1570335537151326, 'dice': 0.9147930478974874, 'rvd': -0.07668720456727808, 'assd': 1.988226178093299, 'jaccard': 0.8429664462848674, 'msd': 24.778720709512026}, {'voe': 0.4854379863387295, 'dice': 0.6794862264073018, 'rvd': -0.277733519219279, 'assd': 3.2654121650992209, 'jaccard': 0.5145620136612705, 'msd': 59.650181055886165}]], [[315, {'voe': 0.24613272225424454, 'dice': 0.8596628574024149, 'rvd': -0.12406080989639462, 'assd': 3.7354564207217118, 'jaccard': 0.7538672777457555, 'msd': 27.848518811599298}, {'voe': 0.9991287600880411, 'dice': 0.001740963027443075, 'rvd': 21.520474137931036, 'assd': 66.568328854687181, 'jaccard': 0.0008712399119589142, 'msd': 131.23941023945514}], [316, {'voe': 0.1448360656233425, 'dice': 0.9219281579705741, 'rvd': -0.03405828913848077, 'assd': 2.1606982970179729, 'jaccard': 0.8551639343766575, 'msd': 21.623366990364843}, {'voe': 0.9823591855116287, 'dice': 0.03467002155812792, 'rvd': 35.60746552543985, 'assd': 70.431951457974051, 'jaccard': 0.017640814488371345, 'msd': 143.25505226692707}], [317, {'voe': 0.20909168192416017, 'dice': 0.8832482490511803, 'rvd': -0.11964558150451825, 'assd': 3.4149676823752335, 'jaccard': 0.7909083180758398, 'msd': 29.396407943828784}, {'voe': 0.7322036005790769, 'dice': 0.422459630810186, 'rvd': -0.663436329588015, 'assd': 13.209086571560524, 'jaccard': 0.26779639942092315, 'msd': 115.80798763470507}], [318, {'voe': 0.2083708442758746, 'dice': 0.8836975589450837, 'rvd': -0.08104206724597329, 'assd': 3.2710745437692323, 'jaccard': 0.7916291557241254, 'msd': 37.5}, {'voe': 0.9935636956844135, 'dice': 0.012790286455263469, 'rvd': 10.87741935483871, 'assd': 64.490383519779186, 'jaccard': 0.006436304315586534, 'msd': 128.91055038281391}], [319, {'voe': 0.1774571626663145, 'dice': 0.9026321033277177, 'rvd': -0.02188824156496448, 'assd': 1.9000894752857345, 'jaccard': 0.8225428373336855, 'msd': 22.965191050805565}, {'voe': 0.5529442657388564, 'dice': 0.6178832282357211, 'rvd': -0.20504051137982982, 'assd': 2.701221431107911, 'jaccard': 0.4470557342611436, 'msd': 23.077478198451406}]]]\n"
     ]
    }
   ],
   "source": [
    "print overall_score"
   ]
  },
  {
   "cell_type": "markdown",
   "metadata": {},
   "source": [
    "### Method to get avearge score for each scorename in a fold"
   ]
  },
  {
   "cell_type": "code",
   "execution_count": 192,
   "metadata": {
    "collapsed": false
   },
   "outputs": [
    {
     "name": "stdout",
     "output_type": "stream",
     "text": [
      "\n"
     ]
    }
   ],
   "source": [
    "def get_average_score_liver(scorelist,scorename,mode=None):\n",
    "    \"\"\"\n",
    "    :param scorelist:\n",
    "    :param scorename:\n",
    "    :return:\n",
    "    \"\"\"\n",
    "\n",
    "    score = 0.\n",
    "    for i in range(len(scorelist)):\n",
    "#         for item in e[1]: \n",
    "        if mode=='abs':\n",
    "            core += np.abs(scorelist[i][1][scorename])\n",
    "        else:\n",
    "            score += scorelist[i][1][scorename]\n",
    "    score /= float(len(scorelist))\n",
    "\n",
    "    return score"
   ]
  },
  {
   "cell_type": "code",
   "execution_count": 204,
   "metadata": {
    "collapsed": true
   },
   "outputs": [],
   "source": [
    "def get_average_score_lesion(scorelist,scorename,mode=None):\n",
    "    \"\"\"\n",
    "    :param scorelist:\n",
    "    :param scorename:\n",
    "    :return:\n",
    "    \"\"\"\n",
    "\n",
    "    score = 0.\n",
    "    count=0\n",
    "    for i in range(len(scorelist)):\n",
    "#         for item in e[1]: \n",
    "        if mode=='abs':\n",
    "            core += np.abs(scorelist[i][2][scorename])\n",
    "        else:\n",
    "            if(scorelist[i][2][scorename]<0.1):\n",
    "                count=count+1\n",
    "            score += scorelist[i][2][scorename]\n",
    "    #print len(scorelist)-count\n",
    "    score /= float(len(scorelist)-count)\n",
    "\n",
    "    return score"
   ]
  },
  {
   "cell_type": "code",
   "execution_count": 209,
   "metadata": {
    "collapsed": false
   },
   "outputs": [
    {
     "name": "stdout",
     "output_type": "stream",
     "text": [
      "Average Liver Scores after CRF for fold  1 : 0.920273764187\n",
      "Average Liver Scores after CRF for fold  2 : 0.892035290764\n",
      "Average Liver Scores after CRF for fold  3 : 0.890233785339\n",
      "[0.9202737641873975, 0.8920352907643189, 0.8902337853393941]\n"
     ]
    }
   ],
   "source": [
    "fold_score_dice=[]\n",
    "for i in range(len(overall_score)):\n",
    "    print \"Average Liver Scores after CRF for fold \",i+1,\":\",get_average_score_liver(overall_score[i],'dice')\n",
    "    fold_score_dice.append(get_average_score_liver(overall_score[i],'dice'))\n",
    "print fold_score_dice"
   ]
  },
  {
   "cell_type": "code",
   "execution_count": null,
   "metadata": {
    "collapsed": true
   },
   "outputs": [],
   "source": []
  },
  {
   "cell_type": "code",
   "execution_count": 205,
   "metadata": {
    "collapsed": false
   },
   "outputs": [
    {
     "name": "stdout",
     "output_type": "stream",
     "text": [
      "Average Lesion Scores after CRF for fold  1 : 0.61175641549\n",
      "Average Lesion Scores after CRF for fold  2 : 0.566226419082\n",
      "Average Lesion Scores after CRF for fold  3 : 0.544772065043\n"
     ]
    }
   ],
   "source": [
    "fold_score_lesion=[]\n",
    "for i in range(len(overall_score)):\n",
    "    print \"Average Lesion Scores for fold \",i+1,\":\",get_average_score_lesion(overall_score[i],'dice')\n",
    "    fold_score_lesion.append(get_average_score_lesion(overall_score[i],'dice'))\n",
    "    "
   ]
  },
  {
   "cell_type": "markdown",
   "metadata": {},
   "source": [
    "\n"
   ]
  },
  {
   "cell_type": "code",
   "execution_count": null,
   "metadata": {
    "collapsed": true
   },
   "outputs": [],
   "source": []
  }
 ],
 "metadata": {
  "kernelspec": {
   "display_name": "Python 2",
   "language": "python",
   "name": "python2"
  },
  "language_info": {
   "codemirror_mode": {
    "name": "ipython",
    "version": 2
   },
   "file_extension": ".py",
   "mimetype": "text/x-python",
   "name": "python",
   "nbconvert_exporter": "python",
   "pygments_lexer": "ipython2",
   "version": "2.7.6"
  }
 },
 "nbformat": 4,
 "nbformat_minor": 0
}
